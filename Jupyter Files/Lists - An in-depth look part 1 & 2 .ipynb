{
 "cells": [
  {
   "cell_type": "markdown",
   "metadata": {},
   "source": [
    "## Compound Data Types\n",
    "### Part 1:\n",
    "### <u> Lists </u>\n",
    "**Ex:** <br>\n",
    "*myList = [4, 6, 7, 8, 10, 12, 14, 15, 35]* <br>\n",
    "*myStrlist = [\"comp sci\", \"physics\", \"elec engr\", \"philosophy\"]*\n",
    "\n",
    "#### Examples of things you could wand to do with lists\n",
    "1. Sort the values in ascending order & descending order\n",
    "2. Find values in the list, or details about the list\n",
    "3. Insert or remove values from the list (including other lists)\n",
    "4. Grab sub-lists from the list to work with\n",
    "5. Iterate through and perform functions/checks on each list item\n",
    "\n",
    "#### Formalized Examples:\n",
    "**[Reference:](https://docs.python.org/3/library/stdtypes.html#sequence-types-list-tuple-range)**\n",
    "1. Sort - sort(), sorted() - nice prep for algorithms section\n",
    "2. Find - len(), min(), max(), in, indexing, slicing, count()\n",
    "3. Insert/Remove - append(), insert(), extend(), remove(), pop()\n",
    "4. Sub-lists - slicing, in-place, copying\n",
    "5. Iteration - for loops, while loops (covered in later video)\n"
   ]
  },
  {
   "cell_type": "code",
   "execution_count": 4,
   "metadata": {},
   "outputs": [
    {
     "name": "stdout",
     "output_type": "stream",
     "text": [
      "Ints: [15, 6, 7, 8, 35, 12, 14, 4, 10]\n",
      "Strings: ['comp sci', 'physics', 'elec engr', 'philosophy']\n",
      "myList initial id:  140625800160752\n",
      "Sorting...\n",
      "sortedList initial id:  140625800559024\n",
      "myList final id:  140625800160752\n",
      "Sorted Ints: [4, 6, 7, 8, 10, 12, 14, 15, 35]\n"
     ]
    }
   ],
   "source": [
    "# Lists - Sorting\n",
    "\n",
    "myList = [15, 6, 7, 8 , 35, 12, 14, 4, 10]\n",
    "myStringList = [\"comp sci\", \"physics\", \"elec engr\", \"philosophy\"]\n",
    "print(f\"Ints: {myList}\")\n",
    "print(f\"Strings: {myStringList}\")\n",
    "print(\"myList initial id: \", id(myList))\n",
    "print(\"Sorting...\")\n",
    "myList.sort() # python standard library sort() method (runs on an object)\n",
    "sortedList = sorted(myList) # sorted function (passed as argument)\n",
    "print(\"sortedList initial id: \", id(sortedList))\n",
    "print(\"myList final id: \", id(myList))\n",
    "print(f\"Sorted Ints: {myList}\")"
   ]
  },
  {
   "cell_type": "code",
   "execution_count": 5,
   "metadata": {},
   "outputs": [
    {
     "name": "stdout",
     "output_type": "stream",
     "text": [
      "Ints: [15, 6, 7, 8, 35, 12, 14, 4, 10]\n",
      "Strings: ['comp sci', 'physics', 'elec engr', 'philosophy']\n",
      "Finding Info...\n",
      "True\n",
      "True\n"
     ]
    }
   ],
   "source": [
    "# Lists - Finding\n",
    "\n",
    "myList = [15, 6, 7, 8 , 35, 12, 14, 4, 10]\n",
    "myStringList = [\"comp sci\", \"physics\", \"elec engr\", \"philosophy\"]\n",
    "print(f\"Ints: {myList}\")\n",
    "print(f\"Strings: {myStringList}\")\n",
    "\n",
    "print(\"Finding Info...\")\n",
    "# Finding if 'physics' in myStringList using 'in'\n",
    "# returns a boolean value\n",
    "print(\"physics\" in myStringList) \n",
    "print(35 in myList)\n",
    "print(50 in myList) # good way of finding if obj exists\n"
   ]
  },
  {
   "cell_type": "code",
   "execution_count": 8,
   "metadata": {},
   "outputs": [
    {
     "name": "stdout",
     "output_type": "stream",
     "text": [
      "Ints: [15, 6, 7, 8, 35, 12, 14, 4, 10]\n",
      "Strings: ['comp sci', 'physics', 'elec engr', 'philosophy']\n",
      "Finding Info...\n",
      "Index of 'physics':  1\n",
      "Length of myList:  9\n",
      "Length of myStringList:  4\n",
      "Last element in myList:  10\n",
      "Last element in myList:  10\n"
     ]
    }
   ],
   "source": [
    "# Lists - Finding\n",
    "\n",
    "myList = [15, 6, 7, 8 , 35, 12, 14, 4, 10]\n",
    "myStringList = [\"comp sci\", \"physics\", \"elec engr\", \"philosophy\"]\n",
    "print(f\"Ints: {myList}\")\n",
    "print(f\"Strings: {myStringList}\")\n",
    "print(\"Finding Info...\")\n",
    "\n",
    "# Finding where 'physics' is located in myStringList using 'index()'\n",
    "# returns the index of obj that matches the passed argument\n",
    "print(\"Index of 'physics': \", myStringList.index(\"physics\"))\n",
    "\n",
    "# Finding length of myStringList using 'len()'\n",
    "# returns the number of obj in list\n",
    "print(\"Length of myList: \", len(myList))\n",
    "print(\"Length of myStringList: \",len(myStringList))\n",
    "print(\"Last element in myList: \", myList[len(myList) - 1])\n",
    "print(\"Last element in myList: \", myList[-1]) # different way of doing it"
   ]
  },
  {
   "cell_type": "code",
   "execution_count": 10,
   "metadata": {},
   "outputs": [
    {
     "name": "stdout",
     "output_type": "stream",
     "text": [
      "minimum of myList:  4\n",
      "maximum of myList:  35\n",
      "minimum of myStringList:  comp sci\n",
      "maximum of myStringList:  physics\n"
     ]
    }
   ],
   "source": [
    "# Finding minimum of myList using 'min()'\n",
    "# Finding maximum of myList using 'max()'\n",
    "# returns the minimum/maximum value in list\n",
    "print(\"minimum of myList: \", min(myList))\n",
    "print(\"maximum of myList: \", max(myList))\n",
    "print(\"minimum of myStringList: \", min(myStringList)) # Alphabetical\n",
    "print(\"maximum of myStringList: \", max(myStringList))"
   ]
  },
  {
   "cell_type": "code",
   "execution_count": 11,
   "metadata": {},
   "outputs": [
    {
     "name": "stdout",
     "output_type": "stream",
     "text": [
      "list of methods for myList:  ['__add__', '__class__', '__contains__', '__delattr__', '__delitem__', '__dir__', '__doc__', '__eq__', '__format__', '__ge__', '__getattribute__', '__getitem__', '__gt__', '__hash__', '__iadd__', '__imul__', '__init__', '__init_subclass__', '__iter__', '__le__', '__len__', '__lt__', '__mul__', '__ne__', '__new__', '__reduce__', '__reduce_ex__', '__repr__', '__reversed__', '__rmul__', '__setattr__', '__setitem__', '__sizeof__', '__str__', '__subclasshook__', 'append', 'clear', 'copy', 'count', 'extend', 'index', 'insert', 'pop', 'remove', 'reverse', 'sort']\n",
      "list of methods for myStringList:  ['__add__', '__class__', '__contains__', '__delattr__', '__delitem__', '__dir__', '__doc__', '__eq__', '__format__', '__ge__', '__getattribute__', '__getitem__', '__gt__', '__hash__', '__iadd__', '__imul__', '__init__', '__init_subclass__', '__iter__', '__le__', '__len__', '__lt__', '__mul__', '__ne__', '__new__', '__reduce__', '__reduce_ex__', '__repr__', '__reversed__', '__rmul__', '__setattr__', '__setitem__', '__sizeof__', '__str__', '__subclasshook__', 'append', 'clear', 'copy', 'count', 'extend', 'index', 'insert', 'pop', 'remove', 'reverse', 'sort']\n"
     ]
    }
   ],
   "source": [
    "# Finding methods available to your data type  using 'dir()'\n",
    "# returns all built in methods in list\n",
    "print(\"list of methods for myList: \", dir(myList))\n",
    "print(\"list of methods for myStringList: \", dir(myStringList))"
   ]
  },
  {
   "cell_type": "code",
   "execution_count": 12,
   "metadata": {},
   "outputs": [
    {
     "name": "stdout",
     "output_type": "stream",
     "text": [
      "Number of '15 ' in myList:  1\n"
     ]
    }
   ],
   "source": [
    "myList = [15, 6, 7, 8 , 35, 12, 14, 4, 10]\n",
    "myStringList = [\"comp sci\", \"physics\", \"elec engr\", \"philosophy\"]\n",
    "print(f\"Ints: {myList}\")\n",
    "print(f\"Strings: {myStringList}\")\n",
    "print(\"Finding Info...\")\n",
    "\n",
    "# Finding count of elements in list using 'count()'\n",
    "# returns number of elements in list or the number of\n",
    "# occurances of the passed argument\n",
    "print(\"Number of '15 ' in myList: \", myList.count(15))\n",
    "print(\"Number of '15 ' in myList: \", myList.count(15))"
   ]
  },
  {
   "cell_type": "markdown",
   "metadata": {},
   "source": [
    "### Part 2:"
   ]
  },
  {
   "cell_type": "code",
   "execution_count": null,
   "metadata": {},
   "outputs": [],
   "source": []
  }
 ],
 "metadata": {
  "kernelspec": {
   "display_name": "Python 3",
   "language": "python",
   "name": "python3"
  },
  "language_info": {
   "codemirror_mode": {
    "name": "ipython",
    "version": 3
   },
   "file_extension": ".py",
   "mimetype": "text/x-python",
   "name": "python",
   "nbconvert_exporter": "python",
   "pygments_lexer": "ipython3",
   "version": "3.7.6"
  }
 },
 "nbformat": 4,
 "nbformat_minor": 4
}
