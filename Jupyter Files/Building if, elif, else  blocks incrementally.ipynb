{
 "cells": [
  {
   "cell_type": "markdown",
   "metadata": {},
   "source": [
    "### Precap:\n",
    "#### Branching and control flow step by step"
   ]
  },
  {
   "cell_type": "code",
   "execution_count": 1,
   "metadata": {},
   "outputs": [
    {
     "name": "stdout",
     "output_type": "stream",
     "text": [
      "Truth\n"
     ]
    }
   ],
   "source": [
    "truth_condition = True\n",
    "if truth_condition:\n",
    "    print(\"Truth\")"
   ]
  },
  {
   "cell_type": "code",
   "execution_count": 3,
   "metadata": {},
   "outputs": [
    {
     "name": "stdout",
     "output_type": "stream",
     "text": [
      "You have chosen option 1\n"
     ]
    }
   ],
   "source": [
    "choice = '1'\n",
    "if choice == '1':\n",
    "    print(\"You have chosen option 1\")"
   ]
  },
  {
   "cell_type": "markdown",
   "metadata": {},
   "source": [
    "*What if you want to account for other inputs?*"
   ]
  },
  {
   "cell_type": "code",
   "execution_count": 4,
   "metadata": {},
   "outputs": [
    {
     "name": "stdout",
     "output_type": "stream",
     "text": [
      "You have chosen option 2\n"
     ]
    }
   ],
   "source": [
    "choice = '2'\n",
    "if choice == '1':\n",
    "    print(\"You have chosen option 1\")\n",
    "elif choice == '2':\n",
    "    print(\"You have chosen option 2\")\n",
    "else:\n",
    "    print(\"You have made an invalid choice\")"
   ]
  },
  {
   "cell_type": "markdown",
   "metadata": {},
   "source": [
    "**Example of using conditional operators:**\n"
   ]
  },
  {
   "cell_type": "code",
   "execution_count": 5,
   "metadata": {},
   "outputs": [
    {
     "name": "stdout",
     "output_type": "stream",
     "text": [
      "You have chosen option 1\n"
     ]
    }
   ],
   "source": [
    "choice = '1'\n",
    "made_payment = True\n",
    "\n",
    "if choice == '1' and made_payment:\n",
    "    print(\"You have chosen option 1\")\n",
    "elif choice == '2':\n",
    "    print(\"You have chosen option 2\")\n",
    "else:\n",
    "    print(\"You have made an invalid choice\")"
   ]
  },
  {
   "cell_type": "code",
   "execution_count": 6,
   "metadata": {},
   "outputs": [
    {
     "name": "stdout",
     "output_type": "stream",
     "text": [
      "You have chosen option 2\n"
     ]
    }
   ],
   "source": [
    "choice = '2'\n",
    "made_payment = False\n",
    "\n",
    "if choice == '1' and made_payment:\n",
    "    print(\"You have chosen option 1\")\n",
    "elif choice == '2':\n",
    "    print(\"You have chosen option 2\")\n",
    "else:\n",
    "    print(\"You have made an invalid choice\")"
   ]
  },
  {
   "cell_type": "code",
   "execution_count": 7,
   "metadata": {},
   "outputs": [
    {
     "name": "stdout",
     "output_type": "stream",
     "text": [
      "You have made an invalid choice\n"
     ]
    }
   ],
   "source": [
    "choice = '1'\n",
    "made_payment = False\n",
    "\n",
    "if choice == '1' and made_payment:\n",
    "    print(\"You have chosen option 1\")\n",
    "elif choice == '2':\n",
    "    print(\"You have chosen option 2\")\n",
    "else:\n",
    "    print(\"You have made an invalid choice\")"
   ]
  },
  {
   "cell_type": "markdown",
   "metadata": {},
   "source": [
    "**Another Example of using conditional operators:**"
   ]
  },
  {
   "cell_type": "code",
   "execution_count": 8,
   "metadata": {},
   "outputs": [
    {
     "name": "stdout",
     "output_type": "stream",
     "text": [
      "Welcome to your homepage\n"
     ]
    }
   ],
   "source": [
    "made_payment = True\n",
    "a = 'Please pay monthly premium'\n",
    "b = 'Welcome to your homepage'\n",
    "\n",
    "if not made_payment:\n",
    "    print(a)\n",
    "else:\n",
    "    print(b)"
   ]
  },
  {
   "cell_type": "code",
   "execution_count": 10,
   "metadata": {},
   "outputs": [
    {
     "name": "stdout",
     "output_type": "stream",
     "text": [
      "i is less than j and k\n"
     ]
    }
   ],
   "source": [
    "# Branching and control flow step by step\n",
    "\n",
    "i = 5\n",
    "j = 10\n",
    "k = 30\n",
    "\n",
    "# Top down operation: if one condition is satified before the others\n",
    "# than they well not execute.\n",
    "\n",
    "if i < j and i < k:\n",
    "    print(\"i is less than j and k\")\n",
    "elif i == j and i ==k:\n",
    "    print(\"i is equal to j and k\")\n",
    "elif i == j or i == k:\n",
    "    print(\"i is equal to either j or k\")\n",
    "else:\n",
    "    print(\"something else\")"
   ]
  },
  {
   "cell_type": "markdown",
   "metadata": {},
   "source": [
    "**Example of Ternary operator:**"
   ]
  },
  {
   "cell_type": "code",
   "execution_count": 12,
   "metadata": {},
   "outputs": [
    {
     "name": "stdout",
     "output_type": "stream",
     "text": [
      "enrolled in python course\n",
      "enrolled in some other course\n"
     ]
    }
   ],
   "source": [
    "# Simplifying if/else\n",
    "\n",
    "course = 'python'\n",
    "a = 'enrolled in python course'\n",
    "b = 'enrolled in some other course'\n",
    "\n",
    "# if course == 'python':\n",
    "#     print(a)\n",
    "# else:\n",
    "#     print(b)\n",
    "\n",
    "print(a) if course == 'python' else print(b)\n",
    "\n",
    "course = 'java'\n",
    "\n",
    "print(a) if course == 'python' else print(b)"
   ]
  },
  {
   "cell_type": "code",
   "execution_count": 13,
   "metadata": {},
   "outputs": [
    {
     "name": "stdout",
     "output_type": "stream",
     "text": [
      "Welcome to your homepage\n",
      "Welcome to your homepage\n"
     ]
    }
   ],
   "source": [
    "# Example of ternary operator (simplifying if/else)\n",
    "made_payment = True\n",
    "a = 'Please pay monthly premium'\n",
    "b = 'Welcome to your homepage'\n",
    "\n",
    "print(a) if not made_payment else print(b)\n",
    "print(b) if made_payment else print(a)"
   ]
  }
 ],
 "metadata": {
  "kernelspec": {
   "display_name": "Python 3",
   "language": "python",
   "name": "python3"
  },
  "language_info": {
   "codemirror_mode": {
    "name": "ipython",
    "version": 3
   },
   "file_extension": ".py",
   "mimetype": "text/x-python",
   "name": "python",
   "nbconvert_exporter": "python",
   "pygments_lexer": "ipython3",
   "version": "3.7.6"
  }
 },
 "nbformat": 4,
 "nbformat_minor": 4
}
