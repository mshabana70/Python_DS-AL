{
 "cells": [
  {
   "cell_type": "markdown",
   "metadata": {},
   "source": [
    "# Numbers \n",
    "\n",
    "1. Math\n",
    "2. Type Casting\n",
    "3. Getting input from user\n",
    "\n",
    "### Integers, Floats\n",
    "\n",
    "**Integer** - A whole number that has no decimals"
   ]
  },
  {
   "cell_type": "code",
   "execution_count": 7,
   "metadata": {},
   "outputs": [
    {
     "name": "stdout",
     "output_type": "stream",
     "text": [
      "<class 'int'>\n"
     ]
    }
   ],
   "source": [
    "print(type(4))"
   ]
  },
  {
   "cell_type": "markdown",
   "metadata": {},
   "source": [
    "**Float** - A real number that is represented with a decimal"
   ]
  },
  {
   "cell_type": "code",
   "execution_count": 6,
   "metadata": {},
   "outputs": [
    {
     "name": "stdout",
     "output_type": "stream",
     "text": [
      "<class 'float'>\n",
      "<class 'float'>\n",
      "<class 'float'>\n"
     ]
    }
   ],
   "source": [
    "print(type(3.0))\n",
    "print(type(3.5))\n",
    "print(type(4.00))"
   ]
  },
  {
   "cell_type": "markdown",
   "metadata": {},
   "source": [
    "### Math\n",
    "\n",
    "*During Arithmetic, the class type of the an equation with two integers will **result in an integer type**.*"
   ]
  },
  {
   "cell_type": "code",
   "execution_count": 9,
   "metadata": {},
   "outputs": [
    {
     "name": "stdout",
     "output_type": "stream",
     "text": [
      "<class 'int'>\n",
      "4\n"
     ]
    }
   ],
   "source": [
    "result = 5 + 3\n",
    "print(type(result))\n",
    "result -= 4\n",
    "print(result)"
   ]
  },
  {
   "cell_type": "markdown",
   "metadata": {},
   "source": [
    "*Whenever doing arithmetic with a Float, the result will always be a float!*"
   ]
  },
  {
   "cell_type": "code",
   "execution_count": 14,
   "metadata": {},
   "outputs": [
    {
     "name": "stdout",
     "output_type": "stream",
     "text": [
      "13.0 <class 'float'>\n",
      "12.5 <class 'float'>\n"
     ]
    }
   ],
   "source": [
    "result = 10 + 3.0\n",
    "print(result, type(result))\n",
    "result = 10 + 2.5\n",
    "print(result, type(result))"
   ]
  },
  {
   "cell_type": "markdown",
   "metadata": {},
   "source": [
    "*When using division operator in python, the result of the arithmetic will always be a **Float**.*"
   ]
  },
  {
   "cell_type": "code",
   "execution_count": 11,
   "metadata": {},
   "outputs": [
    {
     "name": "stdout",
     "output_type": "stream",
     "text": [
      "<class 'float'>\n",
      "2.0\n"
     ]
    }
   ],
   "source": [
    "result = 10 / 5\n",
    "print(type(result))\n",
    "print(result)"
   ]
  },
  {
   "cell_type": "markdown",
   "metadata": {},
   "source": [
    "**Floor Division** : Returns the integral part of the quotient"
   ]
  },
  {
   "cell_type": "code",
   "execution_count": 12,
   "metadata": {},
   "outputs": [
    {
     "name": "stdout",
     "output_type": "stream",
     "text": [
      "3.3333333333333335 <class 'float'>\n",
      "3 <class 'int'>\n"
     ]
    }
   ],
   "source": [
    "result = 10 / 3\n",
    "result2 = 10 // 3\n",
    "print(result, type(result))\n",
    "print(result2, type(result2)) # Returns Type INT"
   ]
  },
  {
   "cell_type": "markdown",
   "metadata": {},
   "source": [
    "**Modulo Operator** : It returns the remainder of dividing the left hand operand by right hand operand. It's used to get the remainder of a division problem."
   ]
  },
  {
   "cell_type": "code",
   "execution_count": 16,
   "metadata": {},
   "outputs": [
    {
     "name": "stdout",
     "output_type": "stream",
     "text": [
      "1\n",
      "0\n"
     ]
    }
   ],
   "source": [
    "resModulo = 10 % 3 # The answer is 3 when dividing the right value from the left, but modulo returns the remainder\n",
    "print(resModulo)\n",
    "resModulo = 10 % 2\n",
    "print(resModulo) # 10 is divisible by 2 so the remainder will be 0"
   ]
  },
  {
   "cell_type": "markdown",
   "metadata": {},
   "source": [
    "**Power Operator** : It returns the result of the number on the left to the power of the number on the right."
   ]
  },
  {
   "cell_type": "code",
   "execution_count": 18,
   "metadata": {},
   "outputs": [
    {
     "name": "stdout",
     "output_type": "stream",
     "text": [
      "10 to the power of 2: 100, 5 to the power of 3: 125\n"
     ]
    }
   ],
   "source": [
    "resPow = 10 ** 2\n",
    "resPow2 = 5 ** 3\n",
    "print(f\"10 to the power of 2: {resPow}, 5 to the power of 3: {resPow2}\")"
   ]
  },
  {
   "cell_type": "markdown",
   "metadata": {},
   "source": [
    "*Another way to user the Power operator is within the **Math** library in Python*"
   ]
  },
  {
   "cell_type": "code",
   "execution_count": 20,
   "metadata": {},
   "outputs": [
    {
     "data": {
      "text/plain": [
       "100000.0"
      ]
     },
     "execution_count": 20,
     "metadata": {},
     "output_type": "execute_result"
    }
   ],
   "source": [
    "import math\n",
    "math.pow(10,5)"
   ]
  },
  {
   "cell_type": "markdown",
   "metadata": {},
   "source": [
    "*Built in Logarithmic Functions in the python math module*"
   ]
  },
  {
   "cell_type": "code",
   "execution_count": 21,
   "metadata": {},
   "outputs": [
    {
     "data": {
      "text/plain": [
       "19.931568569324174"
      ]
     },
     "execution_count": 21,
     "metadata": {},
     "output_type": "execute_result"
    }
   ],
   "source": [
    "math.log2(1000000)"
   ]
  },
  {
   "cell_type": "markdown",
   "metadata": {},
   "source": [
    "You can also import the Random Module, this helps when generating random values in your code."
   ]
  },
  {
   "cell_type": "code",
   "execution_count": 23,
   "metadata": {},
   "outputs": [
    {
     "data": {
      "text/plain": [
       "482"
      ]
     },
     "execution_count": 23,
     "metadata": {},
     "output_type": "execute_result"
    }
   ],
   "source": [
    "import random\n",
    "random.randint(0, 1000) # generate a random integer from 0 - 1000"
   ]
  },
  {
   "cell_type": "markdown",
   "metadata": {},
   "source": [
    "### Type Casting\n",
    "\n",
    "**Type Casting**: A method used for changing the variables/ values declared in a certain data type into a different data type in order to match for the operation required to be performed by the code snippet."
   ]
  },
  {
   "cell_type": "code",
   "execution_count": 24,
   "metadata": {},
   "outputs": [
    {
     "name": "stdout",
     "output_type": "stream",
     "text": [
      "1010\n"
     ]
    }
   ],
   "source": [
    "result = \"10\" + \"10\" # This will output \"1010\" because they are strings\n",
    "print(result)"
   ]
  },
  {
   "cell_type": "markdown",
   "metadata": {},
   "source": [
    "Now what if you wanted to add the two strings as if they were integers? This is where type casting (or wrapping) comes into play."
   ]
  },
  {
   "cell_type": "code",
   "execution_count": 25,
   "metadata": {},
   "outputs": [
    {
     "name": "stdout",
     "output_type": "stream",
     "text": [
      "20 <class 'int'>\n"
     ]
    }
   ],
   "source": [
    "result = int(\"10\") + int(\"10\")\n",
    "print(result, type(result))"
   ]
  },
  {
   "cell_type": "markdown",
   "metadata": {},
   "source": [
    "*Another example:*"
   ]
  },
  {
   "cell_type": "code",
   "execution_count": 28,
   "metadata": {},
   "outputs": [
    {
     "name": "stdout",
     "output_type": "stream",
     "text": [
      "1020\n",
      "1020\n",
      "30 <class 'int'>\n"
     ]
    }
   ],
   "source": [
    "num_1 = \"10\"\n",
    "num_2 = \"20\"\n",
    "result = num_1 + num_2\n",
    "print(result) # This will result in \"1020\"\n",
    "print(int(result)) # This will also result in \"1020\"\n",
    "\n",
    "num_11 = int(\"10\")\n",
    "num_21 = int(\"20\")\n",
    "result2 = num_11 + num_21\n",
    "print(result2, type(result2))"
   ]
  },
  {
   "cell_type": "code",
   "execution_count": null,
   "metadata": {},
   "outputs": [],
   "source": [
    "num_1 = 10\n",
    "num_2 = 20\n",
    "result = num_1 + num_2\n",
    "result = str(result)\n",
    "print(result, type(result))"
   ]
  },
  {
   "cell_type": "markdown",
   "metadata": {},
   "source": [
    "### User Input\n",
    "\n",
    "Reading input from the user to provide values for the variables in our code. This tool will be used to represent the **input()** function.\n",
    "\n",
    "*All inputs are saved as type string*"
   ]
  },
  {
   "cell_type": "code",
   "execution_count": 37,
   "metadata": {},
   "outputs": [
    {
     "name": "stdout",
     "output_type": "stream",
     "text": [
      "Welcome to the multiplication program\n",
      "----------------------------------------\n",
      "Enter a number to multiply -> 9\n",
      "Enter a second number to multiply -> 9\n",
      "The multiplication result is: 81\n"
     ]
    }
   ],
   "source": [
    "print(\"Welcome to the multiplication program\")\n",
    "print(\"-\"*40)\n",
    "num_1 = int(input(\"Enter a number to multiply -> \"))\n",
    "num_2 = int(input(\"Enter a second number to multiply -> \"))\n",
    "result = num_1 * num_2\n",
    "print(f\"The multiplication result is: {result}\")"
   ]
  },
  {
   "cell_type": "markdown",
   "metadata": {},
   "source": [
    "**Assessment #1 needs to be completed after this exercise**"
   ]
  }
 ],
 "metadata": {
  "kernelspec": {
   "display_name": "Python 3",
   "language": "python",
   "name": "python3"
  },
  "language_info": {
   "codemirror_mode": {
    "name": "ipython",
    "version": 3
   },
   "file_extension": ".py",
   "mimetype": "text/x-python",
   "name": "python",
   "nbconvert_exporter": "python",
   "pygments_lexer": "ipython3",
   "version": "3.7.6"
  }
 },
 "nbformat": 4,
 "nbformat_minor": 4
}
