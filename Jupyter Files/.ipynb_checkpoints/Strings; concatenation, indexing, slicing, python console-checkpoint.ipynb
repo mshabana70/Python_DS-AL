{
 "cells": [
  {
   "cell_type": "markdown",
   "metadata": {},
   "source": [
    "## Strings\n",
    "### Concatenation:\n",
    "**Definition** Strings can be added to each other\n",
    "- To add these two strings together: \"Stock price for this tech stock is:\", \"$1100\"\n",
    "- \"Stock price for this tech stock is:\" + \"\" + \"$1100\""
   ]
  },
  {
   "cell_type": "code",
   "execution_count": 1,
   "metadata": {},
   "outputs": [
    {
     "name": "stdout",
     "output_type": "stream",
     "text": [
      "The price os the stock is: $1100\n"
     ]
    }
   ],
   "source": [
    "message = \"The price os the stock is:\"\n",
    "price = \"$1100\"\n",
    "print(message + \" \" + price)"
   ]
  },
  {
   "cell_type": "markdown",
   "metadata": {},
   "source": [
    "These two variables can also be concatenated to a new variable"
   ]
  },
  {
   "cell_type": "code",
   "execution_count": 2,
   "metadata": {},
   "outputs": [
    {
     "name": "stdout",
     "output_type": "stream",
     "text": [
      "The price os the stock is: $1100\n"
     ]
    }
   ],
   "source": [
    "new_message = message + \" \" + price\n",
    "print(new_message)"
   ]
  },
  {
   "cell_type": "markdown",
   "metadata": {},
   "source": [
    "Use could also just set the message to reflect the price as well:"
   ]
  },
  {
   "cell_type": "code",
   "execution_count": 3,
   "metadata": {},
   "outputs": [
    {
     "name": "stdout",
     "output_type": "stream",
     "text": [
      "The price os the stock is: $1100\n"
     ]
    }
   ],
   "source": [
    "# This is possible since string objects in python are immutable\n",
    "# (Immutable: unchanging over time or unable to be changed.)\n",
    "message = \"The price os the stock is:\"\n",
    "price = \"$1100\"\n",
    "message = message + \" \" + price\n",
    "print(message)"
   ]
  },
  {
   "cell_type": "code",
   "execution_count": 6,
   "metadata": {},
   "outputs": [
    {
     "name": "stdout",
     "output_type": "stream",
     "text": [
      "First message variable id:  140596837331552\n",
      "Second message variable id:  140596837327280\n"
     ]
    }
   ],
   "source": [
    "# You can check the id of the message variable \n",
    "# This will help demonstrate its immutable characteristic\n",
    "message = \"The price os the stock is:\"\n",
    "print(\"First message variable id: \", id(message))\n",
    "\n",
    "price = \"$1100\"\n",
    "message = message + \" \" + price\n",
    "print(\"Second message variable id: \", id(message))"
   ]
  },
  {
   "cell_type": "markdown",
   "metadata": {},
   "source": [
    "### Indexing\n",
    "\n",
    "- I N T E R S T E L L  A  R\n",
    "- 0 1 2 3 4 5 6 7 8 9 10 11\n",
    "- -12 ................-2 -1\n",
    "\n",
    "- if we were looking for a specific character, we would specify its index"
   ]
  },
  {
   "cell_type": "code",
   "execution_count": 9,
   "metadata": {},
   "outputs": [
    {
     "name": "stdout",
     "output_type": "stream",
     "text": [
      "I\n",
      "t\n",
      "e\n"
     ]
    }
   ],
   "source": [
    "name = \"Intersteller\"\n",
    "print(name[0])\n",
    "print(name[6])\n",
    "print(name[-2])"
   ]
  },
  {
   "cell_type": "markdown",
   "metadata": {},
   "source": [
    "*Reminder: str objects are immutable and cannot be changed. You would need to reassign the variable to change it.*"
   ]
  },
  {
   "cell_type": "code",
   "execution_count": 10,
   "metadata": {},
   "outputs": [
    {
     "ename": "TypeError",
     "evalue": "'str' object does not support item assignment",
     "output_type": "error",
     "traceback": [
      "\u001b[0;31m---------------------------------------------------------------------------\u001b[0m",
      "\u001b[0;31mTypeError\u001b[0m                                 Traceback (most recent call last)",
      "\u001b[0;32m<ipython-input-10-918b74f6066f>\u001b[0m in \u001b[0;36m<module>\u001b[0;34m\u001b[0m\n\u001b[0;32m----> 1\u001b[0;31m \u001b[0mname\u001b[0m\u001b[0;34m[\u001b[0m\u001b[0;36m1\u001b[0m\u001b[0;34m]\u001b[0m \u001b[0;34m=\u001b[0m \u001b[0;34m\"n\"\u001b[0m\u001b[0;34m\u001b[0m\u001b[0;34m\u001b[0m\u001b[0m\n\u001b[0m",
      "\u001b[0;31mTypeError\u001b[0m: 'str' object does not support item assignment"
     ]
    }
   ],
   "source": [
    "name[1] = \"n\""
   ]
  },
  {
   "cell_type": "markdown",
   "metadata": {},
   "source": [
    "### Slicing \n",
    "- selecting a substring of a string object\n",
    "- name[(starting index of substring):(ending index of substring + 1)]"
   ]
  },
  {
   "cell_type": "code",
   "execution_count": 12,
   "metadata": {},
   "outputs": [
    {
     "name": "stdout",
     "output_type": "stream",
     "text": [
      "Inter\n"
     ]
    }
   ],
   "source": [
    "substring = name[0:5]\n",
    "print(substring)"
   ]
  },
  {
   "cell_type": "markdown",
   "metadata": {},
   "source": [
    "*Reminder: when selecting the rest of the string object, you only need to provide the starting index and the leaving the stop index blank.*"
   ]
  },
  {
   "cell_type": "code",
   "execution_count": 14,
   "metadata": {},
   "outputs": [
    {
     "name": "stdout",
     "output_type": "stream",
     "text": [
      "steller\n",
      "Interst\n"
     ]
    }
   ],
   "source": [
    "substring2 = name[5:]\n",
    "substring3 = name[:7]\n",
    "print(substring2)\n",
    "print(substring3)"
   ]
  },
  {
   "cell_type": "markdown",
   "metadata": {},
   "source": [
    "To incorporate the **Step Size**, you have to include an additional colon \":\" to the notation"
   ]
  },
  {
   "cell_type": "code",
   "execution_count": 15,
   "metadata": {},
   "outputs": [
    {
     "name": "stdout",
     "output_type": "stream",
     "text": [
      "2345\n"
     ]
    }
   ],
   "source": [
    "nums = \"0123456789\"\n",
    "substring = nums[2:6:]\n",
    "print(substring) # Output: \"2345\""
   ]
  },
  {
   "cell_type": "code",
   "execution_count": 16,
   "metadata": {},
   "outputs": [
    {
     "name": "stdout",
     "output_type": "stream",
     "text": [
      "24\n"
     ]
    }
   ],
   "source": [
    "nums = \"0123456789\"\n",
    "substring_stepsize = nums[2:6:2]\n",
    "print(substring_stepsize) # Output: \"24\""
   ]
  },
  {
   "cell_type": "markdown",
   "metadata": {},
   "source": [
    "This allows the indexing to **skip by two** within the substring <br>\n",
    "\"6\" was not printed because it was the 6th index. \n",
    "<br>*Although our notation goes to the 6th index, the notation only outputs the stop index - 1.*  \n"
   ]
  },
  {
   "cell_type": "code",
   "execution_count": 18,
   "metadata": {},
   "outputs": [
    {
     "name": "stdout",
     "output_type": "stream",
     "text": [
      "024\n",
      "02468\n"
     ]
    }
   ],
   "source": [
    "nums = \"0123456789\"\n",
    "substring_stepsize = nums[0:6:2]\n",
    "print(substring_stepsize) # Output: \"024\"\n",
    "substring_stepsize2 = nums[::2]\n",
    "print(substring_stepsize2) # Output: \"02468\""
   ]
  },
  {
   "cell_type": "code",
   "execution_count": null,
   "metadata": {},
   "outputs": [],
   "source": []
  }
 ],
 "metadata": {
  "kernelspec": {
   "display_name": "Python 3",
   "language": "python",
   "name": "python3"
  },
  "language_info": {
   "codemirror_mode": {
    "name": "ipython",
    "version": 3
   },
   "file_extension": ".py",
   "mimetype": "text/x-python",
   "name": "python",
   "nbconvert_exporter": "python",
   "pygments_lexer": "ipython3",
   "version": "3.7.6"
  }
 },
 "nbformat": 4,
 "nbformat_minor": 4
}
