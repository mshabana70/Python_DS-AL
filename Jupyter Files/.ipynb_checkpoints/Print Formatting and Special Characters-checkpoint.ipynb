{
 "cells": [
  {
   "cell_type": "markdown",
   "metadata": {},
   "source": [
    "### Print Format\n",
    "There are several ways to format your print statements, but it generally comes down to 3 ways.\n",
    "\n",
    "1. String Concatenation "
   ]
  },
  {
   "cell_type": "code",
   "execution_count": 2,
   "metadata": {},
   "outputs": [
    {
     "name": "stdout",
     "output_type": "stream",
     "text": [
      "Today's price for google stock is: 1100\n",
      "Today's price for google stock is: 1100\n"
     ]
    }
   ],
   "source": [
    "stock_price = \"1100\"\n",
    "print(\"Today's price for google stock is: \" + stock_price)\n",
    "print(\"Today's price for google stock is:\", stock_price)"
   ]
  },
  {
   "cell_type": "markdown",
   "metadata": {},
   "source": [
    "#### Format() Method\n",
    "*Paramater value is outputted into the brackets \"{}\"*"
   ]
  },
  {
   "cell_type": "code",
   "execution_count": 3,
   "metadata": {},
   "outputs": [
    {
     "name": "stdout",
     "output_type": "stream",
     "text": [
      "Today's price for google stock is: 1100\n"
     ]
    }
   ],
   "source": [
    "stock_price = \"1100\"\n",
    "print(\"Today's price for google stock is: {}\".format(stock_price))"
   ]
  },
  {
   "cell_type": "markdown",
   "metadata": {},
   "source": [
    "#### f - String Notation\n",
    "\n",
    "The syntax is similar to the one you used with str.format() but less verbose. Look at how easily readable this is:\n",
    "\n",
    "*Also known as \"String Interpolation\"*"
   ]
  },
  {
   "cell_type": "code",
   "execution_count": 5,
   "metadata": {},
   "outputs": [
    {
     "name": "stdout",
     "output_type": "stream",
     "text": [
      "Today's price for google stock is: 1100\n",
      "Today's price for google stock is: 9\n"
     ]
    }
   ],
   "source": [
    "stock_price = \"1100\"\n",
    "print(f\"Today's price for google stock is: {stock_price}\")\n",
    "print(f\"Example of evaluation of bracket input in String Interpolation: {4 + 5}\")"
   ]
  },
  {
   "cell_type": "code",
   "execution_count": null,
   "metadata": {},
   "outputs": [],
   "source": []
  }
 ],
 "metadata": {
  "kernelspec": {
   "display_name": "Python 3",
   "language": "python",
   "name": "python3"
  },
  "language_info": {
   "codemirror_mode": {
    "name": "ipython",
    "version": 3
   },
   "file_extension": ".py",
   "mimetype": "text/x-python",
   "name": "python",
   "nbconvert_exporter": "python",
   "pygments_lexer": "ipython3",
   "version": "3.7.6"
  }
 },
 "nbformat": 4,
 "nbformat_minor": 4
}
