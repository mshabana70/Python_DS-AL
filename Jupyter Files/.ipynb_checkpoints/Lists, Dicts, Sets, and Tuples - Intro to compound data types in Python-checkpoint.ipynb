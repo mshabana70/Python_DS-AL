{
 "cells": [
  {
   "cell_type": "markdown",
   "metadata": {},
   "source": [
    "## Compund Data Types\n",
    "### Lists, Dictionaries, Tuples, Sets\n",
    "\n",
    "#### > Python Crash Course Syllabus <\n",
    "- Text: Strings [#]\n",
    "- Numbers: Integers, Floats [#]\n",
    "- Sequences: Lists, dictionaries, sets, tuples [#]}\n",
    "- Functions: Built-in and custom [#]}\n",
    "- Booleans and Conditions [#]\n",
    "- Branching: If, elif, else [#]\n",
    "- Iterators: For loops, while loops\n",
    "- Custom Objects: Classes\n",
    "\n",
    "### Data Types [(link)](https://www.tutorialsteacher.com/python/python-data-types):\n",
    "**Scalar Types**\n",
    "- Int: Postive or Negative Whole Numbers (without a fractional part) e.g. -10, 10, 456, 4654654.\n",
    "- Float: Any real number with a floating-point representation in which a fractional component is denoted by a decimal symbol or scientific notation e.g. 1.23, 3.4556789e2.\n",
    "- Complex: A number with a real and imaginary component represented as x + 2y.\n",
    "- Bool: Data with one of two built-in values True or False. Notice that 'T' and 'F' are capital. true and false are not valid booleans and Python will throw an error for them.\n",
    "- None: The None represents the null object in Python. A None is returned by functions that don't explicitly return a value.\n",
    "\n",
    "**Sequence Types:**\n",
    "A sequence is an ordered collection of similar or different data types. Python has the following built-in sequence data types:\n",
    "- String: A string value is a collection of one or more characters put in single, double or triple quotes.\n",
    "- List:  A list object is an ordered collection of one or more data items, not necessarily of the same type, put in square brackets.\n",
    "- Tuple: A Tuple object is an ordered collection of one or more data items, not necessarily of the same type, put in parentheses.\n",
    "\n",
    "**Mapping Types**\n",
    "- Dictionary: A dictionary Dict() object is an unordered collection of data in a key:value pair form. A collection of such pairs is enclosed in curly brackets. For example: {1:\"Steve\", 2:\"Bill\", 3:\"Ram\", 4: \"Farha\"}.\n",
    "\n",
    "**Set Types**\n",
    "- Set: Set is mutable, unordered collection of distinct hashable objects. The set is a Python implementation of the set in Mathematics. A set object has suitable methods to perform mathematical set operations like union, intersection, difference, etc.\n",
    "- Frozenset: Frozenset is immutable (unchanging over time or unable to be changed) version of set whose elements are added from other iterables.\n",
    "\n",
    "*Mutable types: Lists & Dictionaries* <br>\n",
    "*Immutable types: Numbers, Strings & Tuples*\n",
    "### Compound Data Types:\n",
    "- Lists\n",
    "- Dictionaries\n",
    "- Sets\n",
    "- Tuples\n",
    "\n",
    "**Types:**\n",
    "- Text: Strings\n",
    "- Numbers: Integers, Floats\n",
    "- Functions: Built-in and custom\n",
    "- Custom Objects: Classes\n",
    "\n",
    "*Tools to work with these types: Iterators, for loops, while loops other helpful functions* <br>"
   ]
  },
  {
   "cell_type": "code",
   "execution_count": 6,
   "metadata": {},
   "outputs": [
    {
     "name": "stdout",
     "output_type": "stream",
     "text": [
      "[1, 2, False, 4, 'Mahmoud', None, 'custom object', 5.0, 1]\n",
      "<class 'list'>\n"
     ]
    }
   ],
   "source": [
    "# Lists\n",
    "# [1, 2, False, 4, \"Mahmoud\", None, node_1, 5.0, 1]\n",
    "node_1 = \"custom object\"\n",
    "\n",
    "my_data_type = [1, 2, False, 4, \"Mahmoud\", None, node_1, 5.0, 1]\n",
    "print(my_data_type)\n",
    "print(type(my_data_type))"
   ]
  },
  {
   "cell_type": "markdown",
   "metadata": {},
   "source": [
    "*Important!: Lists are ordered compounds and their elements are indexed*"
   ]
  },
  {
   "cell_type": "code",
   "execution_count": 5,
   "metadata": {},
   "outputs": [
    {
     "name": "stdout",
     "output_type": "stream",
     "text": [
      "Mahmoud\n",
      "5.0\n",
      "custom object\n"
     ]
    }
   ],
   "source": [
    "print(my_data_type[4])\n",
    "print(my_data_type[7])\n",
    "print(my_data_type[6])"
   ]
  },
  {
   "cell_type": "code",
   "execution_count": 7,
   "metadata": {},
   "outputs": [
    {
     "name": "stdout",
     "output_type": "stream",
     "text": [
      "{1: 'Hello', 2: 'Mahmoud', 3: None, 4: 'custom object', 5: 5.0}\n",
      "<class 'dict'>\n"
     ]
    }
   ],
   "source": [
    "# Dictionaries\n",
    "# {'name':'Mahmoud', 'course':'python'}\n",
    "node_1 = \"custom object\"\n",
    "\n",
    "my_data_type = {1: \"Hello\", 2: \"Mahmoud\", 3: None, 4: node_1, 5: 5.0}\n",
    "print(my_data_type)\n",
    "print(type(my_data_type))"
   ]
  },
  {
   "cell_type": "code",
   "execution_count": 8,
   "metadata": {},
   "outputs": [
    {
     "name": "stdout",
     "output_type": "stream",
     "text": [
      "Mahmoud\n",
      "5.0\n",
      "Hello\n"
     ]
    }
   ],
   "source": [
    "print(my_data_type[2])\n",
    "print(my_data_type[5])\n",
    "print(my_data_type[1])"
   ]
  },
  {
   "cell_type": "code",
   "execution_count": 13,
   "metadata": {},
   "outputs": [
    {
     "name": "stdout",
     "output_type": "stream",
     "text": [
      "{False, 1, 2, 4, 5.0, None, 'custom object', 'Mahmoud'}\n",
      "<class 'set'>\n"
     ]
    }
   ],
   "source": [
    "# Sets\n",
    "# {1, 2, False, 4, \"Mahmoud\", None, node_1, 5.0}\n",
    "# IMPORTANT: Sets don't allow for duplicate values and they never printed in order\n",
    "node_1 = \"custom object\"\n",
    "\n",
    "my_data_type = {1, 2, False, 4, \"Mahmoud\", None, node_1, 5.0}\n",
    "print(my_data_type)\n",
    "print(type(my_data_type))"
   ]
  },
  {
   "cell_type": "markdown",
   "metadata": {},
   "source": [
    "*Casting a data type to a set is a helpful way of eliminating duplicates* <br>\n"
   ]
  },
  {
   "cell_type": "code",
   "execution_count": 14,
   "metadata": {},
   "outputs": [
    {
     "name": "stdout",
     "output_type": "stream",
     "text": [
      "(1, 2, False, 4, 'Mahmoud', None, 'custom object', 5.0)\n",
      "<class 'tuple'>\n"
     ]
    }
   ],
   "source": [
    "# Tuples\n",
    "# (1, 2, False, 4, \"Mahmoud\", None, 5.0)\n",
    "# Similar to Lists\n",
    "# Unlike lists, tuples are immutable\n",
    "node_1 = \"custom object\"\n",
    "\n",
    "my_data_type = (1, 2, False, 4, \"Mahmoud\", None, node_1, 5.0)\n",
    "print(my_data_type)\n",
    "print(type(my_data_type))"
   ]
  },
  {
   "cell_type": "code",
   "execution_count": 16,
   "metadata": {},
   "outputs": [
    {
     "name": "stdout",
     "output_type": "stream",
     "text": [
      "None\n",
      "4\n"
     ]
    }
   ],
   "source": [
    "# Output maintains order and can be indexed\n",
    "print(my_data_type[5])\n",
    "print(my_data_type[3])"
   ]
  },
  {
   "cell_type": "code",
   "execution_count": 18,
   "metadata": {},
   "outputs": [
    {
     "ename": "TypeError",
     "evalue": "'tuple' object does not support item assignment",
     "output_type": "error",
     "traceback": [
      "\u001b[0;31m---------------------------------------------------------------------------\u001b[0m",
      "\u001b[0;31mTypeError\u001b[0m                                 Traceback (most recent call last)",
      "\u001b[0;32m<ipython-input-18-8e89a2ee40d7>\u001b[0m in \u001b[0;36m<module>\u001b[0;34m\u001b[0m\n\u001b[1;32m      1\u001b[0m \u001b[0;31m# showing how its immutable\u001b[0m\u001b[0;34m\u001b[0m\u001b[0;34m\u001b[0m\u001b[0;34m\u001b[0m\u001b[0m\n\u001b[0;32m----> 2\u001b[0;31m \u001b[0mmy_data_type\u001b[0m\u001b[0;34m[\u001b[0m\u001b[0;36m5\u001b[0m\u001b[0;34m]\u001b[0m \u001b[0;34m=\u001b[0m \u001b[0;34m\"python\"\u001b[0m\u001b[0;34m\u001b[0m\u001b[0;34m\u001b[0m\u001b[0m\n\u001b[0m\u001b[1;32m      3\u001b[0m \u001b[0mprint\u001b[0m\u001b[0;34m(\u001b[0m\u001b[0mmy_data_type\u001b[0m\u001b[0;34m[\u001b[0m\u001b[0;36m5\u001b[0m\u001b[0;34m]\u001b[0m\u001b[0;34m)\u001b[0m\u001b[0;34m\u001b[0m\u001b[0;34m\u001b[0m\u001b[0m\n",
      "\u001b[0;31mTypeError\u001b[0m: 'tuple' object does not support item assignment"
     ]
    }
   ],
   "source": [
    "# showing how its immutable\n",
    "my_data_type[5] = \"python\"\n",
    "print(my_data_type[5])"
   ]
  }
 ],
 "metadata": {
  "kernelspec": {
   "display_name": "Python 3",
   "language": "python",
   "name": "python3"
  },
  "language_info": {
   "codemirror_mode": {
    "name": "ipython",
    "version": 3
   },
   "file_extension": ".py",
   "mimetype": "text/x-python",
   "name": "python",
   "nbconvert_exporter": "python",
   "pygments_lexer": "ipython3",
   "version": "3.7.6"
  }
 },
 "nbformat": 4,
 "nbformat_minor": 4
}
