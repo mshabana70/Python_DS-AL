{
 "cells": [
  {
   "cell_type": "markdown",
   "metadata": {},
   "source": [
    "## Python Text\n",
    "### Strings\n",
    "- 'Hello world using single quotes'\n",
    "- \"Hello world using double quotes\"\n",
    "- \"\"\"Hello world using triple quotes, also known as multi-line strings\"\"\"\n",
    "\n",
    "*Writing this text without a print() function will produce no output*\n"
   ]
  },
  {
   "cell_type": "code",
   "execution_count": 5,
   "metadata": {},
   "outputs": [
    {
     "name": "stdout",
     "output_type": "stream",
     "text": [
      "Hello world using single quotes\n",
      "Hello world using double quotes\n",
      "Hello world using triple quotes, also known as multi-line strings\n"
     ]
    }
   ],
   "source": [
    "print('Hello world using single quotes')\n",
    "print(\"Hello world using double quotes\")\n",
    "print(\"\"\"Hello world using triple quotes, also known as multi-line strings\"\"\")"
   ]
  },
  {
   "cell_type": "code",
   "execution_count": 6,
   "metadata": {},
   "outputs": [
    {
     "name": "stdout",
     "output_type": "stream",
     "text": [
      "Hello World \"using double quotes here\" using single quotes\n",
      "Hello World 'using single quotes here' using single quotes\n"
     ]
    }
   ],
   "source": [
    "# Quote within a text print\n",
    "print('Hello World \"using double quotes here\" using single quotes')\n",
    "print(\"Hello World 'using single quotes here' using single quotes\")"
   ]
  },
  {
   "cell_type": "code",
   "execution_count": 8,
   "metadata": {},
   "outputs": [
    {
     "name": "stdout",
     "output_type": "stream",
     "text": [
      "Hello World 'using escape char with single quotes here' using single quotes\n",
      "Hello World \"using escape char with double quotes here\" using double quotes\n"
     ]
    }
   ],
   "source": [
    "# Using an Escape character\n",
    "print('Hello World \\'using escape char with single quotes here\\' using single quotes')\n",
    "print(\"Hello World \\\"using escape char with double quotes here\\\" using double quotes\")"
   ]
  },
  {
   "cell_type": "markdown",
   "metadata": {},
   "source": [
    "### Variables\n",
    "- Memory location references which store values\n",
    "- Use the assignment operator \"=\" to assign values to the variable name\n",
    "- snake_case by convention\n",
    "- use variables rather than text for your print output\n",
    "- We can combine strings and print them out using the print function\n",
    "- the comma will automatically result in a space in-between the strings\n",
    "\n",
    "*Reminder: python follows a top down execution flow*"
   ]
  },
  {
   "cell_type": "code",
   "execution_count": 9,
   "metadata": {},
   "outputs": [
    {
     "name": "stdout",
     "output_type": "stream",
     "text": [
      "Hello world using single quotes\n",
      "Hello world using double quotes\n"
     ]
    }
   ],
   "source": [
    "my_message = 'Hello world using single quotes'\n",
    "other_message = \"Hello world using double quotes\"\n",
    "print(my_message)\n",
    "print(other_message)"
   ]
  },
  {
   "cell_type": "code",
   "execution_count": 11,
   "metadata": {},
   "outputs": [
    {
     "name": "stdout",
     "output_type": "stream",
     "text": [
      "Mahmoud:  I love pizza!\n"
     ]
    }
   ],
   "source": [
    "message = \"I love pizza!\"\n",
    "name = \"Mahmoud: \"\n",
    "print(name, message)"
   ]
  },
  {
   "cell_type": "code",
   "execution_count": null,
   "metadata": {},
   "outputs": [],
   "source": []
  }
 ],
 "metadata": {
  "kernelspec": {
   "display_name": "Python 3",
   "language": "python",
   "name": "python3"
  },
  "language_info": {
   "codemirror_mode": {
    "name": "ipython",
    "version": 3
   },
   "file_extension": ".py",
   "mimetype": "text/x-python",
   "name": "python",
   "nbconvert_exporter": "python",
   "pygments_lexer": "ipython3",
   "version": "3.7.6"
  }
 },
 "nbformat": 4,
 "nbformat_minor": 4
}
