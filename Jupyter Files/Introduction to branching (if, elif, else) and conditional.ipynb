{
 "cells": [
  {
   "cell_type": "markdown",
   "metadata": {},
   "source": [
    "### > <ins>Python Crash Course Syllabus</ins> <\n",
    "\n",
    "- Text: Strings [#]\n",
    "- Numbers: Integers, Floats [#]\n",
    "- Sequences: Lists, dictionaries, sets, tuples\n",
    "- Functions: Built-in and custom\n",
    "- Booleans and Conditions\n",
    "- Branching: If, elif, else\n",
    "- Iterators: For loops, while loops\n",
    "- Custom Objects: Classes\n",
    "\n",
    "*What if you wanted the user to have options to select from in your program?*\n",
    "### Branching: If, elif, else\n",
    "- **if/else**\n",
    "<pre>\n",
    "if condition:\n",
    "    execute some code\n",
    "else:\n",
    "    execute some other code\n",
    "</pre>\n",
    "\n",
    "- **elif**\n",
    "<pre>\n",
    "if condition:\n",
    "    execute some code\n",
    "elif other_codition:\n",
    "    execute some other code\n",
    "else:\n",
    "    execute some other code\n",
    "</pre>\n",
    "\n",
    "### Booleans and Conditions\n",
    "\n",
    "*Evaluate to True or False (Boolean)*\n",
    "1. Greater than [>]\n",
    "2. Less than [<]\n",
    "3. Greater than or equal to [>=]\n",
    "4. Less than or equal to [<=]\n",
    "5. Equal to [==]\n",
    "6. Not equal to [!=]\n",
    "\n",
    "*Documentation of conditional operators: [Docs](https://docs.python.org/3/library/stdtypes.html#comparisons)*"
   ]
  },
  {
   "cell_type": "code",
   "execution_count": 3,
   "metadata": {},
   "outputs": [
    {
     "name": "stdout",
     "output_type": "stream",
     "text": [
      "Welcome to the calc program\n",
      "------------------------------\n",
      "Choose 1 to multiply, 2 to divide -> 5\n",
      "Enter First Number -> 3\n",
      "Enter Second Number -> 4\n",
      "You've made an invalid selection\n"
     ]
    }
   ],
   "source": [
    "# Branching - if, elif, else\n",
    "# Conditionals evaluation to Boolean - True or False\n",
    "\n",
    "print(\"Welcome to the calc program\")\n",
    "print(\"-\"*30)\n",
    "choice = input(\"Choose 1 to multiply, 2 to divide -> \")\n",
    "num_1 = int(input(\"Enter First Number -> \"))\n",
    "num_2 = int(input(\"Enter Second Number -> \"))\n",
    "\n",
    "if choice == \"1\":\n",
    "    print(f\"{num_1} multiplied by {num_2} is: {num_1 * num_2}\")\n",
    "elif choice ==\"2\":\n",
    "    print(f\"{num_1} divided by {num_2} is: {num_1 / num_2}\")\n",
    "else: \n",
    "    print(\"You've made an invalid selection\")"
   ]
  },
  {
   "cell_type": "markdown",
   "metadata": {},
   "source": [
    "**How can we fix the issue with input prompting during an invalid selection?**"
   ]
  },
  {
   "cell_type": "code",
   "execution_count": 4,
   "metadata": {},
   "outputs": [
    {
     "name": "stdout",
     "output_type": "stream",
     "text": [
      "Welcome to the calc program\n",
      "------------------------------\n",
      "Choose 1 to multiply, 2 to divide -> 0\n",
      "You've made an invalid selection\n"
     ]
    }
   ],
   "source": [
    "print(\"Welcome to the calc program\")\n",
    "print(\"-\"*30)\n",
    "choice = input(\"Choose 1 to multiply, 2 to divide -> \")\n",
    "if choice == \"1\" or choice == \"2\":\n",
    "    num_1 = int(input(\"Enter First Number -> \"))\n",
    "    num_2 = int(input(\"Enter Second Number -> \"))\n",
    "    if choice == \"1\":\n",
    "        print(f\"{num_1} multiplied by {num_2} is: {num_1 * num_2}\")\n",
    "    else:\n",
    "        print(f\"{num_1} divided by {num_2} is: {num_1 / num_2}\")\n",
    "else:\n",
    "    print(\"You've made an invalid selection\")"
   ]
  },
  {
   "cell_type": "markdown",
   "metadata": {},
   "source": [
    "\n",
    "*This is code taken from later in the course, It was taken from the  recursive method for reversing a Linked List. Demonstrates the use of conditionals*\n",
    "<pre>\n",
    "if self.head == None:\n",
    "    return\n",
    "elif current.next == None:\n",
    "    self.tail = self.head\n",
    "    current.next = previous \n",
    "    self.head = current\n",
    "else:\n",
    "    next = current.next\n",
    "    current.next = previous\n",
    "    self.reverse_list_recur(next, current)\n",
    "</pre>"
   ]
  },
  {
   "cell_type": "code",
   "execution_count": null,
   "metadata": {},
   "outputs": [],
   "source": []
  }
 ],
 "metadata": {
  "kernelspec": {
   "display_name": "Python 3",
   "language": "python",
   "name": "python3"
  },
  "language_info": {
   "codemirror_mode": {
    "name": "ipython",
    "version": 3
   },
   "file_extension": ".py",
   "mimetype": "text/x-python",
   "name": "python",
   "nbconvert_exporter": "python",
   "pygments_lexer": "ipython3",
   "version": "3.7.6"
  }
 },
 "nbformat": 4,
 "nbformat_minor": 4
}
