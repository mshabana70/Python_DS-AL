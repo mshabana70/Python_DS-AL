{
 "cells": [
  {
   "cell_type": "markdown",
   "metadata": {},
   "source": [
    "## Methods\n",
    "- Methods and functions we can use on string objects\n",
    "- https://docs.python.org/3/library/\n",
    "- len(), type(), id()\n",
    "- capitalize(), upper(), lower(), strip(), find()\n",
    "- split(), join()\n",
    "- import string"
   ]
  },
  {
   "cell_type": "code",
   "execution_count": 2,
   "metadata": {},
   "outputs": [
    {
     "name": "stdout",
     "output_type": "stream",
     "text": [
      "Hello  Mahmoud,  Welcome to the Algorithms Course!\n"
     ]
    }
   ],
   "source": [
    "greeting = \"Hello \"\n",
    "user = \"Mahmoud, \"\n",
    "message = \"Welcome to the Algorithms Course!\"\n",
    "print(greeting, user, message)"
   ]
  },
  {
   "cell_type": "markdown",
   "metadata": {},
   "source": [
    "### Len() \n",
    "**Definition:** Return the length (the number of items) of an object. The argument may be a sequence (such as a string, bytes, tuple, list, or range) or a collection (such as a dictionary, set, or frozen set).\n",
    "\n",
    "*Example:*"
   ]
  },
  {
   "cell_type": "code",
   "execution_count": 7,
   "metadata": {},
   "outputs": [
    {
     "name": "stdout",
     "output_type": "stream",
     "text": [
      "length of greeting:  6\n",
      "length of user:  9\n",
      "length of message:  33\n"
     ]
    }
   ],
   "source": [
    "print(\"length of greeting: \", len(greeting))\n",
    "print(\"length of user: \", len(user))\n",
    "print(\"length of message: \", len(message))"
   ]
  },
  {
   "cell_type": "markdown",
   "metadata": {},
   "source": [
    "### Type()\n",
    "**Definition:** With one argument, return the type of an object. The return value is a type object and generally the same object as returned by object.__class__.\n",
    "\n",
    "*Example:*"
   ]
  },
  {
   "cell_type": "code",
   "execution_count": 6,
   "metadata": {},
   "outputs": [
    {
     "name": "stdout",
     "output_type": "stream",
     "text": [
      "<class 'str'>\n",
      "<class 'int'>\n"
     ]
    }
   ],
   "source": [
    "print(type(message)) # Output of object type 'str'\n",
    "print(type(5)) # Output of object type 'int'"
   ]
  },
  {
   "cell_type": "markdown",
   "metadata": {},
   "source": [
    "### Id()\n",
    "**Definition:** Return the “identity” (memory location) of an object. This is an integer which is guaranteed to be unique and constant for this object during its lifetime. Two objects with non-overlapping lifetimes may have the same id() value.\n",
    "\n",
    "*Example:*"
   ]
  },
  {
   "cell_type": "code",
   "execution_count": 8,
   "metadata": {},
   "outputs": [
    {
     "name": "stdout",
     "output_type": "stream",
     "text": [
      "Memory Location of 'greeting':  140407304036912\n",
      "Memory Location of 'user':  140407304036848\n"
     ]
    }
   ],
   "source": [
    "print(\"Memory Location of 'greeting': \", id(greeting))\n",
    "print(\"Memory Location of 'user': \", id(user))"
   ]
  },
  {
   "cell_type": "markdown",
   "metadata": {},
   "source": [
    "*`There are many built-in functions in python, but we will be focusing on the ones that involve strings for now`*"
   ]
  },
  {
   "cell_type": "markdown",
   "metadata": {},
   "source": [
    "### Functions Vs Methods\n",
    "\n",
    "**Functions:** Function is block of code that is also called by its name. (independent) \n",
    "- The function can have different parameters or may not have any at all. If any data (parameters) are passed, they are passed explicitly.\n",
    "- It may or may not return any data.\n",
    "- Function does not deal with Class and its instance concept.\n",
    "<br>\n",
    "\n",
    "**Methods:** Method is called by its name, but it is associated to an object (dependent).\n",
    "- A method is implicitly passed the object on which it is invoked.\n",
    "- It may or may not return any data.\n",
    "- A method can operate on the data (instance variables) that is contained by the corresponding class\n",
    "\n",
    "*this topic will be clearer when applied in exercises and problems*"
   ]
  },
  {
   "cell_type": "code",
   "execution_count": 11,
   "metadata": {},
   "outputs": [
    {
     "name": "stdout",
     "output_type": "stream",
     "text": [
      "Hello  Mahmoud,  Welcome to the Algorithms Course!\n"
     ]
    }
   ],
   "source": [
    "greeting = \"Hello \"\n",
    "user = \"mahmoud, \"\n",
    "message = \"Welcome to the Algorithms Course!\"\n",
    "# Using the capitalize() method for user variable\n",
    "print(greeting, user.capitalize(), message)"
   ]
  },
  {
   "cell_type": "markdown",
   "metadata": {},
   "source": [
    "### Dir()\n",
    "**Definition:** Without arguments, return the list of names in the current local scope. With an argument, attempt to return a list of valid attributes for that object.\n",
    "\n",
    "*Example:*"
   ]
  },
  {
   "cell_type": "code",
   "execution_count": 12,
   "metadata": {
    "collapsed": true
   },
   "outputs": [
    {
     "name": "stdout",
     "output_type": "stream",
     "text": [
      "['__add__', '__class__', '__contains__', '__delattr__', '__dir__', '__doc__', '__eq__', '__format__', '__ge__', '__getattribute__', '__getitem__', '__getnewargs__', '__gt__', '__hash__', '__init__', '__init_subclass__', '__iter__', '__le__', '__len__', '__lt__', '__mod__', '__mul__', '__ne__', '__new__', '__reduce__', '__reduce_ex__', '__repr__', '__rmod__', '__rmul__', '__setattr__', '__sizeof__', '__str__', '__subclasshook__', 'capitalize', 'casefold', 'center', 'count', 'encode', 'endswith', 'expandtabs', 'find', 'format', 'format_map', 'index', 'isalnum', 'isalpha', 'isascii', 'isdecimal', 'isdigit', 'isidentifier', 'islower', 'isnumeric', 'isprintable', 'isspace', 'istitle', 'isupper', 'join', 'ljust', 'lower', 'lstrip', 'maketrans', 'partition', 'replace', 'rfind', 'rindex', 'rjust', 'rpartition', 'rsplit', 'rstrip', 'split', 'splitlines', 'startswith', 'strip', 'swapcase', 'title', 'translate', 'upper', 'zfill']\n"
     ]
    }
   ],
   "source": [
    "print(dir(user)) # Output: all valid attributes for the 'user' object"
   ]
  },
  {
   "cell_type": "markdown",
   "metadata": {},
   "source": [
    "### Upper()\n",
    "**Definition:** Return a copy of the string with all the cased characters converted to uppercase.\n"
   ]
  },
  {
   "cell_type": "markdown",
   "metadata": {},
   "source": [
    "### Lower()\n",
    "**Definition:** Return a copy of the string with all the cased characters converted to lowercase.\n"
   ]
  },
  {
   "cell_type": "markdown",
   "metadata": {},
   "source": [
    "### Strip()\n",
    "**Definition:** Return a copy of the string with the leading and trailing characters removed. The chars argument is a string specifying the set of characters to be removed. If omitted or None, the chars argument defaults to removing whitespace."
   ]
  },
  {
   "cell_type": "markdown",
   "metadata": {},
   "source": [
    "### Find()\n",
    "**Definition:** Return the lowest index in the string where substring sub is found within the slice s[start:end]. Optional arguments start and end are interpreted as in slice notation. Return -1 if sub is not found."
   ]
  },
  {
   "cell_type": "code",
   "execution_count": 21,
   "metadata": {},
   "outputs": [
    {
     "name": "stdout",
     "output_type": "stream",
     "text": [
      "HELLO  Mahmoud,  welcome to the algorithms course!\n",
      "WE BELIEVE IN YOUR SUCCESS\n",
      "Lowest index of word 'success' in message2:  22\n"
     ]
    }
   ],
   "source": [
    "greeting = \"Hello \"\n",
    "user = \"mahmoud, \"\n",
    "message = \"Welcome to the Algorithms Course!\"\n",
    "message2 = \"   We believe in your success    \"\n",
    "# Using the capitalize() method for 'user' variable\n",
    "# Using the upper() method for 'greeting' variable\n",
    "# Using the lower() method for 'message' variable\n",
    "print(greeting.upper(), user.capitalize(), message.lower())\n",
    "# You can also apply multiple methods to one object by using method chaining\n",
    "print(message2.strip().upper())\n",
    "print(\"Lowest index of word 'success' in message2: \", message2.find(\"success\"))"
   ]
  },
  {
   "cell_type": "markdown",
   "metadata": {},
   "source": [
    "### Split()\n",
    "**Definition:** Return a list of the words in the string, using sep as the delimiter string. If maxsplit is given, at most maxsplit splits are done (thus, the list will have at most maxsplit+1 elements). If maxsplit is not specified or -1, then there is no limit on the number of splits (all possible splits are made).\n",
    "\n",
    "*Example:*"
   ]
  },
  {
   "cell_type": "code",
   "execution_count": 23,
   "metadata": {},
   "outputs": [
    {
     "name": "stdout",
     "output_type": "stream",
     "text": [
      "['Welcome', 'to', 'the', 'Algorithms', 'Course!']\n",
      "['Welcome', 'to', 'the', 'Algorithms', 'Course!']\n"
     ]
    }
   ],
   "source": [
    "message = \"Welcome to the Algorithms Course!\"\n",
    "print(message.split())\n",
    "message = \"Welcome-to-the-Algorithms-Course!\"\n",
    "print(message.split(\"-\"))"
   ]
  },
  {
   "cell_type": "markdown",
   "metadata": {},
   "source": [
    "### Join()\n",
    "**Definition:** Return a string which is the concatenation of the strings in iterable. A TypeError will be raised if there are any non-string values in iterable, including bytes objects. The separator between elements is the string providing this method.\n",
    "\n",
    "*Example:*"
   ]
  },
  {
   "cell_type": "code",
   "execution_count": 25,
   "metadata": {},
   "outputs": [
    {
     "name": "stdout",
     "output_type": "stream",
     "text": [
      "Python, Ruby, Javascript\n",
      "Python-Ruby-Javascript\n"
     ]
    }
   ],
   "source": [
    "my_languages = ['Python', 'Ruby', 'Javascript']\n",
    "print(\", \".join(my_languages))\n",
    "print(\"-\".join(my_languages))"
   ]
  },
  {
   "cell_type": "markdown",
   "metadata": {},
   "source": [
    "## Importing\n",
    "\n",
    "**Import:** Python code in one module gains access to the code in another module by the process of importing it. The import statement is the most common way of invoking the import machinery, but it is not the only way. Functions such as importlib.import_module() and built-in __import__() can also be used to invoke the import machinery.\n",
    "\n",
    "*Example:*"
   ]
  },
  {
   "cell_type": "code",
   "execution_count": 27,
   "metadata": {},
   "outputs": [
    {
     "name": "stdout",
     "output_type": "stream",
     "text": [
      "abcdefghijklmnopqrstuvwxyz\n",
      "abcdefghijklmnopqrstuvwxyzABCDEFGHIJKLMNOPQRSTUVWXYZ\n"
     ]
    }
   ],
   "source": [
    "import string\n",
    "print(string.ascii_lowercase)\n",
    "\n",
    "# Another way of importing specific functions\n",
    "from string import ascii_letters\n",
    "print(ascii_letters)"
   ]
  }
 ],
 "metadata": {
  "kernelspec": {
   "display_name": "Python 3",
   "language": "python",
   "name": "python3"
  },
  "language_info": {
   "codemirror_mode": {
    "name": "ipython",
    "version": 3
   },
   "file_extension": ".py",
   "mimetype": "text/x-python",
   "name": "python",
   "nbconvert_exporter": "python",
   "pygments_lexer": "ipython3",
   "version": "3.7.6"
  }
 },
 "nbformat": 4,
 "nbformat_minor": 4
}
