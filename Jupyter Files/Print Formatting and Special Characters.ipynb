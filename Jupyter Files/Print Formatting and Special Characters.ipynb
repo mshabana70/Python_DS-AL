{
 "cells": [
  {
   "cell_type": "markdown",
   "metadata": {},
   "source": [
    "### Print Format\n",
    "There are several ways to format your print statements, but it generally comes down to 3 ways.\n",
    "\n",
    "1. String Concatenation "
   ]
  },
  {
   "cell_type": "code",
   "execution_count": 2,
   "metadata": {},
   "outputs": [
    {
     "name": "stdout",
     "output_type": "stream",
     "text": [
      "Today's price for google stock is: 1100\n",
      "Today's price for google stock is: 1100\n"
     ]
    }
   ],
   "source": [
    "stock_price = \"1100\"\n",
    "print(\"Today's price for google stock is: \" + stock_price)\n",
    "print(\"Today's price for google stock is:\", stock_price)"
   ]
  },
  {
   "cell_type": "markdown",
   "metadata": {},
   "source": [
    "#### Format() Method\n",
    "*Paramater value is outputted into the brackets \"{}\"*"
   ]
  },
  {
   "cell_type": "code",
   "execution_count": 3,
   "metadata": {},
   "outputs": [
    {
     "name": "stdout",
     "output_type": "stream",
     "text": [
      "Today's price for google stock is: 1100\n"
     ]
    }
   ],
   "source": [
    "stock_price = \"1100\"\n",
    "print(\"Today's price for google stock is: {}\".format(stock_price))"
   ]
  },
  {
   "cell_type": "markdown",
   "metadata": {},
   "source": [
    "#### f - String Notation\n",
    "\n",
    "The syntax is similar to the one you used with str.format() but less verbose. Look at how easily readable this is:\n",
    "\n",
    "*Also known as \"String Interpolation\"*"
   ]
  },
  {
   "cell_type": "code",
   "execution_count": 6,
   "metadata": {},
   "outputs": [
    {
     "name": "stdout",
     "output_type": "stream",
     "text": [
      "Today's price for google stock is: 1100\n",
      "Example of evaluation of bracket input in String Interpolation: 9\n"
     ]
    }
   ],
   "source": [
    "stock_price = \"1100\"\n",
    "print(f\"Today's price for google stock is: {stock_price}\")\n",
    "print(f\"Example of evaluation of bracket input in String Interpolation: {4 + 5}\")"
   ]
  },
  {
   "cell_type": "markdown",
   "metadata": {},
   "source": [
    "#### Exercise:"
   ]
  },
  {
   "cell_type": "code",
   "execution_count": 10,
   "metadata": {},
   "outputs": [
    {
     "name": "stdout",
     "output_type": "stream",
     "text": [
      "Today's price: 1100 yesterday's price: 1000\n",
      "Today's price: 1100, yesterday's price: 1000\n",
      "Today's price: 1100, yesterday's price: 1000\n"
     ]
    }
   ],
   "source": [
    "today_price = \"1100\"\n",
    "yesterday_price = \"1000\"\n",
    "print(\"Today's price:\", today_price, \"yesterday's price:\", yesterday_price)\n",
    "# .format() method\n",
    "print(\"Today's price: {}, yesterday's price: {}\".format(today_price, yesterday_price))\n",
    "# f-string (String Interpolation) method\n",
    "print(f\"Today's price: {today_price}, yesterday's price: {yesterday_price}\")"
   ]
  },
  {
   "cell_type": "markdown",
   "metadata": {},
   "source": [
    "### Special Characters\n",
    "\n",
    "- **\\** - is an escape character, it escapes the special character following it in a string\n",
    "- **\\n** - specifies new line within the string\n",
    "- **\\t** - adds a tab in it's place within the string"
   ]
  },
  {
   "cell_type": "code",
   "execution_count": 11,
   "metadata": {},
   "outputs": [
    {
     "name": "stdout",
     "output_type": "stream",
     "text": [
      "My name is jon snow and not only do I know nothing but I also do nothing\n"
     ]
    }
   ],
   "source": [
    "# Use the escape character to ignore the new line, great \n",
    "# for programmer viewing.\n",
    "print(\"My name is jon snow and not \\\n",
    "only do I know nothing but \\\n",
    "I also do nothing\")\n"
   ]
  },
  {
   "cell_type": "code",
   "execution_count": 13,
   "metadata": {
    "scrolled": true
   },
   "outputs": [
    {
     "name": "stdout",
     "output_type": "stream",
     "text": [
      "My name is jon snow\n",
      "and not only do I know nothing\n",
      "but I also do nothing\n"
     ]
    }
   ],
   "source": [
    "# Using the new line character to separate the string on new lines\n",
    "print(\"My name is jon snow\\nand not only do I know nothing\\nbut I also do nothing\")\n"
   ]
  },
  {
   "cell_type": "code",
   "execution_count": 14,
   "metadata": {},
   "outputs": [
    {
     "name": "stdout",
     "output_type": "stream",
     "text": [
      "My name is jon snow\n",
      "\tand not only do I know nothing\n",
      "\t\tbut I also do nothing\n"
     ]
    }
   ],
   "source": [
    "# Using the tab character to create tabs\n",
    "print(\"My name is jon snow\\n\\tand not only do I know nothing\\n\\t\\tbut I also do nothing\")"
   ]
  },
  {
   "cell_type": "code",
   "execution_count": 15,
   "metadata": {},
   "outputs": [
    {
     "name": "stdout",
     "output_type": "stream",
     "text": [
      "My name is jon snow \\n and not only do I know nothing \\n but I also do nothing\n"
     ]
    }
   ],
   "source": [
    "# Use escape character on an escape character to show in output\n",
    "print(\"My name is jon snow \\\\n and not only do I know nothing \\\\n but I also do nothing\")"
   ]
  }
 ],
 "metadata": {
  "kernelspec": {
   "display_name": "Python 3",
   "language": "python",
   "name": "python3"
  },
  "language_info": {
   "codemirror_mode": {
    "name": "ipython",
    "version": 3
   },
   "file_extension": ".py",
   "mimetype": "text/x-python",
   "name": "python",
   "nbconvert_exporter": "python",
   "pygments_lexer": "ipython3",
   "version": "3.7.6"
  }
 },
 "nbformat": 4,
 "nbformat_minor": 4
}
