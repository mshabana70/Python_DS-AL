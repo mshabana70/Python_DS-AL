{
 "cells": [
  {
   "cell_type": "markdown",
   "metadata": {},
   "source": [
    "## Compound Data Types\n",
    "### <u> Lists </u>\n",
    "\n",
    "**Ex:** <br>\n",
    "*myList = [4, 6, 7, 8, 10, 12, 14, 15, 35]* <br>\n",
    "*myStrlist = [\"comp sci\", \"physics\", \"elec engr\", \"philosophy\"]*\n",
    "\n",
    "#### Examples of things you could wand to do with lists\n",
    "1. Sort the values in ascending order & descending order\n",
    "2. Find values in the list, or details about the list\n",
    "3. Insert or remove values from the list (including other lists)\n",
    "4. Grab sub-lists from the list to work with\n",
    "5. Iterate through and perform functions/checks on each list item\n",
    "\n",
    "#### Formalized Examples:\n",
    "**[Reference:](https://docs.python.org/3/library/stdtypes.html#sequence-types-list-tuple-range)**\n",
    "1. Sort - sort(), sorted() - nice prep for algorithms section\n",
    "2. Find - len(), min(), max(), in, indexing, slicing, count()\n",
    "3. Insert/Remove - append(), insert(), extend(), remove(), pop()\n",
    "4. Sub-lists - slicing, in-place, copying\n",
    "5. Iteration - for loops, while loops (covered in later video)\n"
   ]
  },
  {
   "cell_type": "code",
   "execution_count": null,
   "metadata": {},
   "outputs": [],
   "source": [
    "# Lists\n",
    "\n",
    "myList = [15, 6, 7, 8 , 35, 12, 14, 4, 10]\n",
    "myStringList = [\"comp sci\", \"physics\", \"elec engr\", \"philosophy\"]\n",
    "print(f\"Ints: {myList}\")\n",
    "print(f\"Strings: {myStringList}\")\n",
    "\n",
    "print(\"Sorting...\")\n",
    "print(f\"Sorted Ints:)"
   ]
  }
 ],
 "metadata": {
  "kernelspec": {
   "display_name": "Python 3",
   "language": "python",
   "name": "python3"
  },
  "language_info": {
   "codemirror_mode": {
    "name": "ipython",
    "version": 3
   },
   "file_extension": ".py",
   "mimetype": "text/x-python",
   "name": "python",
   "nbconvert_exporter": "python",
   "pygments_lexer": "ipython3",
   "version": "3.7.6"
  }
 },
 "nbformat": 4,
 "nbformat_minor": 4
}
